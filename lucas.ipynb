{
 "cells": [
  {
   "cell_type": "code",
   "execution_count": 8,
   "metadata": {},
   "outputs": [],
   "source": [
    "nome = \"Lucas\"\n",
    "idade = 20\n",
    "peso = 68.0\n",
    "altura = 1.74\n",
    "usuário_pyhton = \"lu-corradini\"\n",
    "endereço = \"Av Presidente Goulart\"\n",
    "pcp = True\n",
    "data_de_nascimento = \"13/09/2003\""
   ]
  },
  {
   "cell_type": "code",
   "execution_count": 9,
   "metadata": {},
   "outputs": [
    {
     "name": "stdout",
     "output_type": "stream",
     "text": [
      "Nome: Lucas\n",
      "Idade: 20\n",
      "Peso: 68.0\n",
      "Altura: 1.74\n",
      "Usuário Python: lu-corradini\n",
      "PCD: True\n",
      "Data de Nascimento: 13/09/2003\n"
     ]
    }
   ],
   "source": [
    "print(\"Nome:\", nome)\n",
    "print(\"Idade:\", idade)\n",
    "print(\"Peso:\", peso)\n",
    "print(\"Altura:\", altura)\n",
    "print(\"Usuário Python:\", usuário_pyhton)\n",
    "print(\"PCD:\", pcp)\n",
    "print(\"Data de Nascimento:\", data_de_nascimento)"
   ]
  },
  {
   "attachments": {},
   "cell_type": "markdown",
   "metadata": {},
   "source": [
    "Nome\n",
    "Idade\n",
    "Peso\n",
    "Altura\n",
    "Usuário Python\n",
    "Endereço\n",
    "PCD\n",
    "Data de Nascimento"
   ]
  }
 ],
 "metadata": {
  "kernelspec": {
   "display_name": "Python 3",
   "language": "python",
   "name": "python3"
  },
  "language_info": {
   "codemirror_mode": {
    "name": "ipython",
    "version": 3
   },
   "file_extension": ".py",
   "mimetype": "text/x-python",
   "name": "python",
   "nbconvert_exporter": "python",
   "pygments_lexer": "ipython3",
   "version": "3.11.4"
  },
  "orig_nbformat": 4
 },
 "nbformat": 4,
 "nbformat_minor": 2
}
